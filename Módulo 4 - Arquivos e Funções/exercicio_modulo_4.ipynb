{
  "cells": [
    {
      "cell_type": "markdown",
      "metadata": {
        "id": "KJqp9AANOCtf"
      },
      "source": [
        "<img src=\"https://raw.githubusercontent.com/andre-marcos-perez/ebac-course-utils/main/media/logo/newebac_logo_black_half.png\" alt=\"ebac-logo\">\n",
        "\n",
        "---\n",
        "\n",
        "# **Módulo** | Python: Arquivos & Funções\n",
        "Resolução Caderno de **Exercícios**<br> \n",
        "Professor [André Perez](https://www.linkedin.com/in/andremarcosperez/) <br>\n",
        "Aluno Lucas Scaldaferri Magalhães Freitas\n",
        "\n",
        "---"
      ]
    },
    {
      "cell_type": "markdown",
      "metadata": {
        "id": "d9jDtUbDOE1-"
      },
      "source": [
        "# **Tópicos**\n",
        "\n",
        "<ol type=\"1\">\n",
        "  <li>Leitura;</li>\n",
        "  <li>Escrita;</li>\n",
        "  <li>Funções;</li>\n",
        "  <li>Escopo.</li>\n",
        "</ol>"
      ]
    },
    {
      "cell_type": "markdown",
      "metadata": {
        "id": "SmoHgt-lwkpD"
      },
      "source": [
        "---"
      ]
    },
    {
      "cell_type": "markdown",
      "metadata": {
        "id": "GABI6OW8OfQ2"
      },
      "source": [
        "# **Exercícios**"
      ]
    },
    {
      "cell_type": "markdown",
      "metadata": {
        "id": "muD1vxozykSC"
      },
      "source": [
        "## 0\\. Preparação do ambiente"
      ]
    },
    {
      "cell_type": "markdown",
      "metadata": {
        "id": "ahrFfCuBxJKs"
      },
      "source": [
        "Neste exercício vamos trabalhar com os arquivos de csv e texto definidos abaixo. Execute cada uma das células de código para escrever os arquivos na sua máquina virtual."
      ]
    },
    {
      "cell_type": "markdown",
      "metadata": {
        "id": "u0uFuhRSq_hQ"
      },
      "source": [
        "* **carros.csv**: arquivo csv com informações sobre carros (venda, manutenção, portas, etc.)."
      ]
    },
    {
      "cell_type": "code",
      "execution_count": 106,
      "metadata": {
        "id": "daMf-xaXqKs2",
        "colab": {
          "base_uri": "https://localhost:8080/"
        },
        "outputId": "084b8c2f-fbc4-4e2d-f5aa-c222504b007a"
      },
      "outputs": [
        {
          "output_type": "stream",
          "name": "stdout",
          "text": [
            "Overwriting carros.csv\n"
          ]
        }
      ],
      "source": [
        "%%writefile carros.csv\n",
        "id,valor_venda,valor_manutencao,portas,pessoas,porta_malas\n",
        "1,vhigh,med,2,2,small\n",
        "2,med,vhigh,2,2,small\n",
        "3,low,vhigh,2,2,small\n",
        "4,low,high,2,2,small\n",
        "5,low,high,2,2,small\n",
        "6,low,high,4,4,big\n",
        "7,low,high,4,4,big\n",
        "8,low,med,2,2,small\n",
        "9,low,med,2,2,small\n",
        "10,low,med,2,2,small\n",
        "11,low,med,4,4,big\n",
        "12,low,low,2,2,small\n",
        "13,low,low,4,4,small\n",
        "14,low,low,4,4,med"
      ]
    },
    {
      "cell_type": "markdown",
      "metadata": {
        "id": "X0Z2PhbCrTz1"
      },
      "source": [
        "* **musica.txt**: arquivo texto com a letra da música Roda Viva do Chico Buarque."
      ]
    },
    {
      "cell_type": "code",
      "execution_count": 2,
      "metadata": {
        "id": "m7Ge2rggrU73",
        "colab": {
          "base_uri": "https://localhost:8080/"
        },
        "outputId": "960400f2-0b1c-4873-e599-bdc1c9d740f4"
      },
      "outputs": [
        {
          "output_type": "stream",
          "name": "stdout",
          "text": [
            "Writing musica.txt\n"
          ]
        }
      ],
      "source": [
        "%%writefile musica.txt\n",
        "Roda Viva\n",
        "Chico Buarque\n",
        "\n",
        "Tem dias que a gente se sente\n",
        "Como quem partiu ou morreu\n",
        "A gente estancou de repente\n",
        "Ou foi o mundo então que cresceu\n",
        "A gente quer ter voz ativa\n",
        "No nosso destino mandar\n",
        "Mas eis que chega a roda viva\n",
        "E carrega o destino pra lá\n",
        "\n",
        "Roda mundo, roda-gigante\n",
        "Roda moinho, roda pião\n",
        "\n",
        "O tempo rodou num instante\n",
        "Nas voltas do meu coração\n",
        "A gente vai contra a corrente\n",
        "Até não poder resistir\n",
        "Na volta do barco é que sente\n",
        "O quanto deixou de cumprir\n",
        "Faz tempo que a gente cultiva\n",
        "A mais linda roseira que há\n",
        "Mas eis que chega a roda viva\n",
        "E carrega a roseira pra lá\n",
        "\n",
        "Roda mundo, roda-gigante\n",
        "Roda moinho, roda pião"
      ]
    },
    {
      "cell_type": "markdown",
      "metadata": {
        "id": "zMN1Q3jdwoJm"
      },
      "source": [
        "---"
      ]
    },
    {
      "cell_type": "markdown",
      "metadata": {
        "id": "vXnQx9TwjbBI"
      },
      "source": [
        "## 1. Extração de coluna de arquivo csv "
      ]
    },
    {
      "cell_type": "markdown",
      "metadata": {
        "id": "BClxwtcCjbBJ"
      },
      "source": [
        "1.1. Extraia os valores `valor_venda` e armazena em uma lista."
      ]
    },
    {
      "cell_type": "code",
      "execution_count": 70,
      "metadata": {
        "colab": {
          "base_uri": "https://localhost:8080/"
        },
        "id": "nakKPrj-jbBK",
        "outputId": "76936504-3b5b-4261-8cf9-0389034fd9cd"
      },
      "outputs": [
        {
          "output_type": "stream",
          "name": "stdout",
          "text": [
            "['vhigh', 'med', 'low', 'low', 'low', 'low', 'low', 'low', 'low', 'low', 'low', 'low', 'low', 'low']\n"
          ]
        }
      ],
      "source": [
        "# Resolução 1a\n",
        "\n",
        "valor_venda = []\n",
        "\n",
        "with open(file='./carros.csv', mode='r', encoding='utf8') as arquivo:\n",
        "    linha = arquivo.readline()\n",
        "    linha = arquivo.readline()\n",
        "    while linha:\n",
        "        linha_separada = linha.split(sep=',')\n",
        "        valor_extraido = linha_separada[1]\n",
        "        valor_venda.append(valor_extraido)\n",
        "        linha = arquivo.readline()\n",
        "print(valor_venda)"
      ]
    },
    {
      "cell_type": "markdown",
      "metadata": {
        "id": "yHeAE9u0jbBL"
      },
      "source": [
        "1.2 Complete a função abaixo para extrair uma coluna, do arquivo csv em uma lista.\n"
      ]
    },
    {
      "cell_type": "code",
      "execution_count": 87,
      "metadata": {
        "id": "o0nAwB8rjbBM"
      },
      "outputs": [],
      "source": [
        "# Resolução 1b\n",
        "\n",
        "coluna = []\n",
        "\n",
        "def extrai_coluna_csv(nome_arquivo: str, indice_coluna: int) -> list:\n",
        "    with open(file=nome_arquivo, mode='r', encoding='utf8') as fp:  \n",
        "        linha = fp.readline()\n",
        "        linha = fp.readline()\n",
        "        while linha:\n",
        "            linha_separada = linha.split(sep=',')\n",
        "            coluna.append(linha_separada[indice_coluna])\n",
        "            linha = fp.readline()\n",
        "        return coluna"
      ]
    },
    {
      "cell_type": "markdown",
      "metadata": {
        "id": "ixHN_0E0jbBN"
      },
      "source": [
        "Você pode testar a função com os códigos abaixo."
      ]
    },
    {
      "cell_type": "code",
      "execution_count": 88,
      "metadata": {
        "colab": {
          "base_uri": "https://localhost:8080/"
        },
        "id": "-reB50wUjbBO",
        "outputId": "10580159-2248-4f96-eea0-e0d7f7acc5a0"
      },
      "outputs": [
        {
          "output_type": "stream",
          "name": "stdout",
          "text": [
            "['med', 'vhigh', 'vhigh', 'high', 'high', 'high', 'high', 'med', 'med', 'med', 'med', 'low', 'low', 'low']\n"
          ]
        }
      ],
      "source": [
        "# extrair a coluna valor_manutencao\n",
        "valor_manutencao = extrai_coluna_csv(nome_arquivo='./carros.csv', indice_coluna=2)\n",
        "print(valor_manutencao) # deve retornar ['med', 'vhigh', 'vhigh', ...]"
      ]
    },
    {
      "cell_type": "code",
      "execution_count": 120,
      "metadata": {
        "colab": {
          "base_uri": "https://localhost:8080/"
        },
        "id": "dcJqBzDbjbBO",
        "outputId": "d090288a-4745-4c46-8273-c361e581a8c0"
      },
      "outputs": [
        {
          "output_type": "stream",
          "name": "stdout",
          "text": [
            "['small\\n', 'small\\n', 'small\\n', 'small\\n', 'small\\n', 'big\\n', 'big\\n', 'small\\n', 'small\\n', 'small\\n', 'big\\n', 'small\\n', 'small\\n', 'med\\n']\n"
          ]
        }
      ],
      "source": [
        "# extrair a coluna porta_malas\n",
        "porta_malas = extrai_coluna_csv(nome_arquivo='./carros.csv', indice_coluna=5)\n",
        "print(porta_malas) # deve retornar ['small', 'small', 'small', ...]"
      ]
    },
    {
      "cell_type": "markdown",
      "metadata": {
        "id": "9i86XkMxjbBP"
      },
      "source": [
        "# Exercício bônus"
      ]
    },
    {
      "cell_type": "markdown",
      "metadata": {
        "id": "U4S19ZvHsPcE"
      },
      "source": [
        "## 1\\. Funções para arquivo csv"
      ]
    },
    {
      "cell_type": "markdown",
      "metadata": {
        "id": "Mcf3mkOrtHzK"
      },
      "source": [
        "Complete a função abaixo para extrair uma coluna do arquivo csv em uma lista. Os elementos devem ter o tipo de dado correto."
      ]
    },
    {
      "cell_type": "code",
      "execution_count": 16,
      "metadata": {
        "id": "W-1PAg7Ctt7i"
      },
      "outputs": [],
      "source": [
        "# Exercício bônus, Resolução 1a\n",
        "\n",
        "def extrai_coluna_csv(nome_arquivo: str, indice_coluna: int, tipo_dado: str) -> list:\n",
        "\n",
        "    coluna = []\n",
        "\n",
        "    with open(file=nome_arquivo, mode='r', encoding='utf8') as fp:  \n",
        "        linha = fp.readline()\n",
        "        linha = fp.readline()\n",
        "        while linha:\n",
        "            linha_separada = linha.split(sep=',')\n",
        "            if tipo_dado == 'int':\n",
        "                coluna.append(int(linha_separada[indice_coluna]))\n",
        "                linha = fp.readline()\n",
        "            elif tipo_dado == 'float':\n",
        "                coluna.append(float(linha_separada[indice_coluna]))\n",
        "                linha = fp.readline()\n",
        "            elif tipo_dado == 'str':\n",
        "                coluna.append(str(linha_separada[indice_coluna]))\n",
        "                linha = fp.readline()\n",
        "            else:\n",
        "                coluna.append(bool(linha_separada[indice_coluna]))\n",
        "                linha = fp.readline()\n",
        "        return coluna\n",
        "\n",
        "# use a estrutura de decisão if/elif/else para fazer a conversão do tipo de dados utilizando o parametro 'tipo_dado'"
      ]
    },
    {
      "cell_type": "markdown",
      "metadata": {
        "id": "qCbQF6jru_01"
      },
      "source": [
        "Você pode testar a função com os códigos abaixo."
      ]
    },
    {
      "cell_type": "code",
      "execution_count": 17,
      "metadata": {
        "id": "Rl-EYdySu90s",
        "colab": {
          "base_uri": "https://localhost:8080/"
        },
        "outputId": "69048913-39a7-4b3f-a6d1-804c60be0960"
      },
      "outputs": [
        {
          "output_type": "stream",
          "name": "stdout",
          "text": [
            "['vhigh', 'med', 'low', 'low', 'low', 'low', 'low', 'low', 'low', 'low', 'low', 'low', 'low', 'low']\n",
            "<class 'str'>\n"
          ]
        }
      ],
      "source": [
        "# extrair a coluna valor_venda\n",
        "valor_venda = extrai_coluna_csv(nome_arquivo='./carros.csv', indice_coluna=1, tipo_dado='str')\n",
        "print(valor_venda) # deve retornar ['vhigh', 'med', 'low', ...]\n",
        "print(type(valor_venda[3]))"
      ]
    },
    {
      "cell_type": "code",
      "execution_count": 18,
      "metadata": {
        "id": "hvD-zzwDwboD",
        "colab": {
          "base_uri": "https://localhost:8080/"
        },
        "outputId": "20a4b9ce-420c-4178-932b-9da159c420a9"
      },
      "outputs": [
        {
          "output_type": "stream",
          "name": "stdout",
          "text": [
            "[2, 2, 2, 2, 2, 4, 4, 2, 2, 2, 4, 2, 4, 4]\n",
            "<class 'int'>\n"
          ]
        }
      ],
      "source": [
        "# extrair a coluna pessoas\n",
        "pessoas = extrai_coluna_csv(nome_arquivo='./carros.csv', indice_coluna=4, tipo_dado='int')\n",
        "print(pessoas) # deve retornar [2, 2, 2, ...]\n",
        "print(type(pessoas[3]))"
      ]
    },
    {
      "cell_type": "markdown",
      "metadata": {
        "id": "QTS5-sSbs4ie"
      },
      "source": [
        "---"
      ]
    },
    {
      "cell_type": "markdown",
      "metadata": {
        "id": "sebqs6uztCH4"
      },
      "source": [
        "## 2\\. Funções para arquivo txt"
      ]
    },
    {
      "cell_type": "markdown",
      "metadata": {
        "id": "IFVBGkNhzB3P"
      },
      "source": [
        "Complete a função abaixo para extrair uma as palavras de uma linha do arquivo txt em uma lista."
      ]
    },
    {
      "cell_type": "code",
      "execution_count": 113,
      "metadata": {
        "id": "ewrNqMtczWZJ"
      },
      "outputs": [],
      "source": [
        "# Exercício bônus, Resolução 1b\n",
        "\n",
        "palavras_linha = []\n",
        "\n",
        "def extrai_linha_txt(nome_arquivo: str, numero_linha: int) -> list:\n",
        "\n",
        "    with open(file=nome_arquivo, mode = 'r', encoding='utf8') as fp:\n",
        "          linha = fp.readline()\n",
        "          while linha:\n",
        "             linha_separada = linha.split(sep=' ')\n",
        "             palavras_linha.append(linha_separada)\n",
        "             linha = fp.readline()\n",
        "          return palavras_linha[numero_linha - 1]"
      ]
    },
    {
      "cell_type": "markdown",
      "metadata": {
        "id": "Qz2UwipIz0t2"
      },
      "source": [
        "Você pode testar a função com os códigos abaixo."
      ]
    },
    {
      "cell_type": "code",
      "execution_count": 114,
      "metadata": {
        "id": "_Wxp43qqz1V2",
        "colab": {
          "base_uri": "https://localhost:8080/"
        },
        "outputId": "1386d61a-2a1f-41cb-b380-2c74ca20096b"
      },
      "outputs": [
        {
          "output_type": "stream",
          "name": "stdout",
          "text": [
            "['Mas', 'eis', 'que', 'chega', 'a', 'roda', 'viva\\n']\n"
          ]
        }
      ],
      "source": [
        "linha10 = extrai_linha_txt(nome_arquivo='./musica.txt', numero_linha=10)\n",
        "print(linha10) # deve retornar ['Mas', 'eis', 'que', 'chega', 'a', 'roda', 'viva']"
      ]
    },
    {
      "cell_type": "markdown",
      "metadata": {
        "id": "Fo9qTjietCH6"
      },
      "source": [
        "---"
      ]
    }
  ],
  "metadata": {
    "colab": {
      "provenance": []
    },
    "kernelspec": {
      "display_name": "Python 3 (ipykernel)",
      "language": "python",
      "name": "python3"
    },
    "language_info": {
      "codemirror_mode": {
        "name": "ipython",
        "version": 3
      },
      "file_extension": ".py",
      "mimetype": "text/x-python",
      "name": "python",
      "nbconvert_exporter": "python",
      "pygments_lexer": "ipython3",
      "version": "3.9.7"
    }
  },
  "nbformat": 4,
  "nbformat_minor": 0
}