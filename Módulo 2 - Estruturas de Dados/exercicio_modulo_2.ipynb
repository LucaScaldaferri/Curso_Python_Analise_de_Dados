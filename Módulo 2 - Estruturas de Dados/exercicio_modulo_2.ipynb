{
  "nbformat": 4,
  "nbformat_minor": 0,
  "metadata": {
    "colab": {
      "provenance": []
    },
    "kernelspec": {
      "name": "python3",
      "display_name": "Python 3"
    }
  },
  "cells": [
    {
      "cell_type": "markdown",
      "metadata": {
        "id": "KJqp9AANOCtf"
      },
      "source": [
        "<img src=\"https://raw.githubusercontent.com/andre-marcos-perez/ebac-course-utils/main/media/logo/newebac_logo_black_half.png\" alt=\"ebac-logo\">\n",
        "\n",
        "---\n",
        "\n",
        "# **Módulo 02** | Python: Estruturas de Dados\n",
        "Resolução Caderno de **Exercícios**<br> \n",
        "Professor [André Perez](https://www.linkedin.com/in/andremarcosperez/)<br> \n",
        "Aluno Lucas Scaldaferri Magalhães Freitas\n",
        "\n",
        "---"
      ]
    },
    {
      "cell_type": "markdown",
      "metadata": {
        "id": "d9jDtUbDOE1-"
      },
      "source": [
        "# **Tópicos**\n",
        "\n",
        "<ol type=\"1\">\n",
        "  <li>Listas;</li>\n",
        "  <li>Conjuntos;</li>\n",
        "  <li>Dicionários.</li>\n",
        "</ol>"
      ]
    },
    {
      "cell_type": "markdown",
      "metadata": {
        "id": "SmoHgt-lwkpD"
      },
      "source": [
        "---"
      ]
    },
    {
      "cell_type": "markdown",
      "metadata": {
        "id": "GABI6OW8OfQ2"
      },
      "source": [
        "# **Exercícios**"
      ]
    },
    {
      "cell_type": "markdown",
      "metadata": {
        "id": "muD1vxozykSC"
      },
      "source": [
        "## 1\\. Listas"
      ]
    },
    {
      "cell_type": "markdown",
      "metadata": {
        "id": "ahrFfCuBxJKs"
      },
      "source": [
        "Criei uma lista chamada `filmes` com o nome dos 10 primeiros filmes mais bem avaliados no site no [IMDB](https://www.imdb.com/chart/top/). Imprima o resultado."
      ]
    },
    {
      "cell_type": "code",
      "metadata": {
        "id": "OgL6Hv3bzOHI",
        "colab": {
          "base_uri": "https://localhost:8080/"
        },
        "outputId": "d5268b40-b462-4683-d637-0c931cf2362c"
      },
      "source": [
        "# Resolução 1a\n",
        "\n",
        "filmes_1 = [\n",
        "    'Um Sonho de Liberadade',\n",
        "    'O Poderoso Chefão',\n",
        "    'Batman o Cavaleiro das Trevas',\n",
        "    'O Poderoso Chefão II',\n",
        "    '12 Homens e uma Sentença',\n",
        "    'A Lista de Schindler',\n",
        "    'O Senhor dos Anéis: O Retorno do Rei',\n",
        "    'Pulp Fiction: Tempo de Violência',\n",
        "    'O Senhor dos Anéis: A Sociedade do Anel',\n",
        "    'Três Homens em Conflito'\n",
        "]\n",
        "\n",
        "print(filmes_1)"
      ],
      "execution_count": 9,
      "outputs": [
        {
          "output_type": "stream",
          "name": "stdout",
          "text": [
            "['Um Sonho de Liberadade', 'O Poderoso Chefão', 'Batman o Cavaleiro das Trevas', 'O Poderoso Chefão II', '12 Homens e uma Sentença', 'A Lista de Schindler', 'O Senhor dos Anéis: O Retorno do Rei', 'Pulp Fiction: Tempo de Violência', 'O Senhor dos Anéis: A Sociedade do Anel', 'Três Homens em Conflito']\n"
          ]
        }
      ]
    },
    {
      "cell_type": "markdown",
      "metadata": {
        "id": "KI9zQRT2xa7m"
      },
      "source": [
        "Simule a movimentação do *ranking*. Utilize os métodos `insert` e `pop` para trocar a posição do primeiro e do segundo filme da lista. Imprima o resultado.\n",
        "\n"
      ]
    },
    {
      "cell_type": "code",
      "metadata": {
        "id": "zX3mA3_GzrXH",
        "colab": {
          "base_uri": "https://localhost:8080/"
        },
        "outputId": "193cb7d9-dc08-4998-9f45-cc7a0f32f499"
      },
      "source": [
        "# Resolução 1b\n",
        "## Utilizando o método insert para inserir elemento na lista.\n",
        "\n",
        "filmes_1.insert(0, 'Forrest Gump: O Contador de Histórias')\n",
        "filmes_1.insert(1, 'Clube da Luta')\n",
        "print(filmes_1)\n",
        "\n",
        "## Utilizando o método pop para remover o primeiro e segundo elemento da lista (movimentação no ranking original)\n",
        "## Porém, antes de utilizar o pop, retornarei para a lista de filmes original\n",
        "### Ao invés de refazer a lista filmes, poderia utilizar o próprio método pop para retornar a forma original, porém, preferi utilizar o código desta forma para melhor elucidar o aprendizado\n",
        "\n",
        "filmes_1 = [\n",
        "    'Um Sonho de Liberadade',\n",
        "    'O Poderoso Chefão',\n",
        "    'Batman o Cavaleiro das Trevas',\n",
        "    'O Poderoso Chefão II',\n",
        "    '12 Homens e uma Sentença',\n",
        "    'A Lista de Schindler',\n",
        "    'O Senhor dos Anéis: O Retorno do Rei',\n",
        "    'Pulp Fiction: Tempo de Violência',\n",
        "    'O Senhor dos Anéis: A Sociedade do Anel',\n",
        "    'Três Homens em Conflito'\n",
        "]\n",
        "\n",
        "filmes_1.pop(0)\n",
        "filmes_1.pop(0)\n",
        "\n",
        "print(filmes_1)"
      ],
      "execution_count": 10,
      "outputs": [
        {
          "output_type": "stream",
          "name": "stdout",
          "text": [
            "['Forrest Gump: O Contador de Histórias', 'Clube da Luta', 'Um Sonho de Liberadade', 'O Poderoso Chefão', 'Batman o Cavaleiro das Trevas', 'O Poderoso Chefão II', '12 Homens e uma Sentença', 'A Lista de Schindler', 'O Senhor dos Anéis: O Retorno do Rei', 'Pulp Fiction: Tempo de Violência', 'O Senhor dos Anéis: A Sociedade do Anel', 'Três Homens em Conflito']\n",
            "['Batman o Cavaleiro das Trevas', 'O Poderoso Chefão II', '12 Homens e uma Sentença', 'A Lista de Schindler', 'O Senhor dos Anéis: O Retorno do Rei', 'Pulp Fiction: Tempo de Violência', 'O Senhor dos Anéis: A Sociedade do Anel', 'Três Homens em Conflito']\n"
          ]
        }
      ]
    },
    {
      "cell_type": "markdown",
      "metadata": {
        "id": "zMN1Q3jdwoJm"
      },
      "source": [
        "---"
      ]
    },
    {
      "cell_type": "markdown",
      "metadata": {
        "id": "lxa5L6uF0ZJE"
      },
      "source": [
        "## 2\\. Conjuntos"
      ]
    },
    {
      "cell_type": "markdown",
      "metadata": {
        "id": "9JahS2Kj0d5u"
      },
      "source": [
        "Aconteceu um erro no seu *ranking*. Simule a duplicação dos três últimos filmes da lista. Imprima o resultado."
      ]
    },
    {
      "cell_type": "code",
      "metadata": {
        "id": "BnjnLBNC6PGe",
        "colab": {
          "base_uri": "https://localhost:8080/"
        },
        "outputId": "fd21de27-dda8-4618-9393-f73f3f17c703"
      },
      "source": [
        "# Resolução 2a\n",
        "\n",
        "filmes_2 = [\n",
        "    'Um Sonho de Liberadade',\n",
        "    'O Poderoso Chefão',\n",
        "    'Batman o Cavaleiro das Trevas',\n",
        "    'O Poderoso Chefão II',\n",
        "    '12 Homens e uma Sentença',\n",
        "    'A Lista de Schindler',\n",
        "    'O Senhor dos Anéis: O Retorno do Rei',\n",
        "    'Pulp Fiction: Tempo de Violência',\n",
        "    'O Senhor dos Anéis: A Sociedade do Anel',\n",
        "    'Três Homens em Conflito',\n",
        "]\n",
        "\n",
        "filmes_2.append('Pulp Fiction: Tempo de Violência')\n",
        "filmes_2.append('O Senhor dos Anéis: A Sociedade do Anel')\n",
        "filmes_2.append('Três Homens em Conflito')\n",
        "print(filmes_2)"
      ],
      "execution_count": 6,
      "outputs": [
        {
          "output_type": "stream",
          "name": "stdout",
          "text": [
            "['Um Sonho de Liberadade', 'O Poderoso Chefão', 'Batman o Cavaleiro das Trevas', 'O Poderoso Chefão II', '12 Homens e uma Sentença', 'A Lista de Schindler', 'O Senhor dos Anéis: O Retorno do Rei', 'Pulp Fiction: Tempo de Violência', 'O Senhor dos Anéis: A Sociedade do Anel', 'Três Homens em Conflito', 'Pulp Fiction: Tempo de Violência', 'O Senhor dos Anéis: A Sociedade do Anel', 'Três Homens em Conflito']\n"
          ]
        }
      ]
    },
    {
      "cell_type": "markdown",
      "metadata": {
        "id": "suxTfCJB6ZiX"
      },
      "source": [
        "Utiliza a conversão `set` e `list` para remover os valores duplicados. Imprima o resultado. "
      ]
    },
    {
      "cell_type": "code",
      "metadata": {
        "id": "ZvUGN-0n6joM",
        "colab": {
          "base_uri": "https://localhost:8080/"
        },
        "outputId": "110c9556-c3c8-4c60-8465-e5c30a5b6c85"
      },
      "source": [
        "# Resolução 2b\n",
        "\n",
        "print(len(filmes_2))\n",
        "filmes_2 = list(set(filmes_2))\n",
        "print(len(filmes_2))\n",
        "print(filmes_2)"
      ],
      "execution_count": 7,
      "outputs": [
        {
          "output_type": "stream",
          "name": "stdout",
          "text": [
            "13\n",
            "10\n",
            "['Batman o Cavaleiro das Trevas', 'O Poderoso Chefão II', 'O Senhor dos Anéis: O Retorno do Rei', 'O Poderoso Chefão', 'O Senhor dos Anéis: A Sociedade do Anel', 'Três Homens em Conflito', 'Pulp Fiction: Tempo de Violência', '12 Homens e uma Sentença', 'A Lista de Schindler', 'Um Sonho de Liberadade']\n"
          ]
        }
      ]
    },
    {
      "cell_type": "markdown",
      "metadata": {
        "id": "ShkK35eQ6pAM"
      },
      "source": [
        "---"
      ]
    },
    {
      "cell_type": "markdown",
      "metadata": {
        "id": "EL_FzmxL6rTv"
      },
      "source": [
        "## 3\\. Dicionários"
      ]
    },
    {
      "cell_type": "markdown",
      "metadata": {
        "id": "i8l0gFqRCpfT"
      },
      "source": [
        "Repita os exercícios da parte 1 (listas). Os elementos da lista `filmes` devem ser dicionários no seguinte formato: `{'nome': <nome-do-filme>, 'ano': <ano do filme>}, 'sinopse': <sinopse do filme>}`. "
      ]
    },
    {
      "cell_type": "code",
      "source": [
        "# Resolução 3\n",
        "\n",
        "filmes_3 = {\n",
        "     'filme1':{\n",
        "          'nome':'Um Sonho de Liberadade',\n",
        "          'ano':1994,\n",
        "          'sinopse':'Dois homens presos se reúnem ao longo de vários anos, encontrando consolo e eventual redenção através de atos de decência comum.'\n",
        "              },\n",
        "     'filme2':{\n",
        "          'nome':'O Poderoso Chefão',\n",
        "          'ano':1972,\n",
        "          'sinopse':'O patriarca idoso de uma dinastia do crime organizado transfere o controle de seu império clandestino para seu filho relutante.'\n",
        "              },\n",
        "     'filme3':{\n",
        "          'nome':'Batman o Cavaleiro das Trevas',\n",
        "          'ano':2008,\n",
        "          'sinopse':'Quando a ameaça conhecida como O Coringa surge de seu passado, causa estragos e caos nas pessoas de Gotham.'\n",
        "              },\n",
        "     'filme4':{\n",
        "          'nome':'O Poderoso Chefão II',\n",
        "          'ano':1974,\n",
        "          'sinopse':'Em 1950, Michael Corleone, agora à frente da família, tenta expandir o negócio do crime a Las Vegas, Los Angeles e Cuba.'\n",
        "              },\n",
        "     'filme5':{\n",
        "          'nome':'12 Homens e uma Sentença',\n",
        "          'ano':1957,\n",
        "          'sinopse':'Um jurado que se aposenta tenta evitar um erro judicial forçando seus colegas a reconsiderarem as evidências.'\n",
        "             },\n",
        "     'filme6':{\n",
        "          'nome':'A Lista de Schindler',\n",
        "          'ano':1993,\n",
        "          'sinopse':'Depois de testemunhar a perseguição dos judaicos na Polônia ocupada pelos alemães durante a Segunda Guerra Mundial...'\n",
        "             },\n",
        "     'filme7':{\n",
        "          'nome':'O Senhor dos Anéis: O Retorno do Rei',\n",
        "          'ano':2003,\n",
        "          'sinopse':'Gandalf e Aragorn lideram o Mundo dos Homens contra o exército de Sauron para desviar o olhar de Frodo e Sam quando eles se aproximam á Montanha da Perdição com o Um Anel.'\n",
        "             },\n",
        "     'filme8':{\n",
        "          'nome':'Pulp Fiction: Tempo de Violência',\n",
        "          'ano':1994,\n",
        "          'sinopse':'As vidas de dois assassinos da máfia, um boxeador, um gângster e sua esposa, e um par de bandidos se entrelaçam em quatro histórias de violência e redenção.'\n",
        "             },\n",
        "     'filme9':{\n",
        "          'nome':'O Senhor dos Anéis: A Sociedade do Anel',\n",
        "          'ano':2001,\n",
        "          'sinopse':'Um manso hobbit do Condado e oito companheiros partem em uma jornada para destruir o poderoso Um Anel e salvar a Terra-média das Trevas.'\n",
        "             },\n",
        "      'filme10':{\n",
        "          'nome':'Três Homens em Conflito',\n",
        "          'ano':1966,\n",
        "          'sinopse':'Um impostor se junta com dois homens para encontrar fortuna num remoto cemitério.'\n",
        "              },\n",
        "}"
      ],
      "metadata": {
        "id": "8ApB0io5fTGZ"
      },
      "execution_count": 8,
      "outputs": []
    }
  ]
}